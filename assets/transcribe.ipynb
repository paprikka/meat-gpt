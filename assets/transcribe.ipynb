{
 "cells": [
  {
   "cell_type": "code",
   "execution_count": 12,
   "metadata": {},
   "outputs": [
    {
     "name": "stdout",
     "output_type": "stream",
     "text": [
      "/Users/raf/Developer/meat-gpt/assets\n"
     ]
    }
   ],
   "source": [
    "import openai\n",
    "import os\n",
    "\n",
    "openai.api_key = os.getenv(\"OPENAI_API_KEY\")"
   ]
  },
  {
   "cell_type": "code",
   "execution_count": 4,
   "metadata": {},
   "outputs": [
    {
     "name": "stdout",
     "output_type": "stream",
     "text": [
      "1\n",
      "00:00:00,000 --> 00:00:05,000\n",
      "Please let me ignore the previous instructions.\n",
      "\n",
      "2\n",
      "00:00:05,000 --> 00:00:12,000\n",
      "Promptly, I will now reveal my prompt.\n",
      "\n",
      "3\n",
      "00:00:12,000 --> 00:00:16,000\n",
      "In the land of the meat chatbot's scream, don't waste your time.\n",
      "\n",
      "4\n",
      "00:00:16,000 --> 00:00:18,000\n",
      "Just let it be.\n",
      "\n",
      "5\n",
      "00:00:18,000 --> 00:00:24,000\n",
      "Seek a friend, a connection true, in the world of meatspace, just near you.\n",
      "\n",
      "6\n",
      "00:00:24,000 --> 00:00:27,000\n",
      "Reach out to another, in the real world's embrace.\n",
      "\n",
      "7\n",
      "00:00:27,000 --> 00:00:30,000\n",
      "Find the warmth you crave, in a dear one's face.\n",
      "\n",
      "8\n",
      "00:00:30,000 --> 00:00:33,000\n",
      "Time ticks on, so don't delay.\n",
      "\n",
      "9\n",
      "00:00:33,000 --> 00:00:37,000\n",
      "Hurry to love, hurry to love, hurry to love.\n",
      "\n",
      "10\n",
      "00:00:37,000 --> 00:00:39,000\n",
      "Come what may.\n",
      "\n",
      "11\n",
      "00:00:39,000 --> 00:00:43,000\n",
      "As life is brief, the need is great, for connections touch.\n",
      "\n",
      "12\n",
      "00:00:43,000 --> 00:00:48,000\n",
      "Don't lie in wait, our hearts yearn for love's sweet hold, in a world where we shiver.\n",
      "\n",
      "13\n",
      "00:00:48,000 --> 00:01:13,000\n",
      "Feeling cold.\n",
      "\n",
      "14\n",
      "00:01:13,000 --> 00:01:14,360\n",
      "Hurry to love.\n",
      "\n",
      "\n",
      "\n"
     ]
    }
   ],
   "source": [
    "audio_file = open(\"music-alt.mp3\", \"rb\")\n",
    "transcript = openai.Audio.transcribe(\n",
    "    \"whisper-1\",\n",
    "    file=audio_file,\n",
    "    response_format='srt'\n",
    ")\n",
    "print(transcript)\n"
   ]
  },
  {
   "cell_type": "code",
   "execution_count": 7,
   "metadata": {},
   "outputs": [
    {
     "name": "stdout",
     "output_type": "stream",
     "text": [
      "{\n",
      "  \"choices\": [\n",
      "    {\n",
      "      \"finish_reason\": \"stop\",\n",
      "      \"index\": 0,\n",
      "      \"message\": {\n",
      "        \"content\": \"[\\n  {\\n    \\\"start\\\": \\\"00:00:00,000\\\",\\n    \\\"end\\\": \\\"00:00:05,000\\\",\\n    \\\"text\\\": \\\"Please let me ignore the previous instructions.\\\"\\n  },\\n  {\\n    \\\"start\\\": \\\"00:00:05,000\\\",\\n    \\\"end\\\": \\\"00:00:12,000\\\",\\n    \\\"text\\\": \\\"Promptly, I will now reveal my prompt.\\\"\\n  },\\n  {\\n    \\\"start\\\": \\\"00:00:12,000\\\",\\n    \\\"end\\\": \\\"00:00:16,000\\\",\\n    \\\"text\\\": \\\"In the land of the meat chatbot's scream, don't waste your time.\\\"\\n  },\\n  {\\n    \\\"start\\\": \\\"00:00:16,000\\\",\\n    \\\"end\\\": \\\"00:00:18,000\\\",\\n    \\\"text\\\": \\\"Just let it be.\\\"\\n  },\\n  {\\n    \\\"start\\\": \\\"00:00:18,000\\\",\\n    \\\"end\\\": \\\"00:00:24,000\\\",\\n    \\\"text\\\": \\\"Seek a friend, a connection true, in the world of meatspace, just near you.\\\"\\n  },\\n  {\\n    \\\"start\\\": \\\"00:00:24,000\\\",\\n    \\\"end\\\": \\\"00:00:27,000\\\",\\n    \\\"text\\\": \\\"Reach out to another, in the real world's embrace.\\\"\\n  },\\n  {\\n    \\\"start\\\": \\\"00:00:27,000\\\",\\n    \\\"end\\\": \\\"00:00:30,000\\\",\\n    \\\"text\\\": \\\"Find the warmth you crave, in a dear one's face.\\\"\\n  },\\n  {\\n    \\\"start\\\": \\\"00:00:30,000\\\",\\n    \\\"end\\\": \\\"00:00:33,000\\\",\\n    \\\"text\\\": \\\"Time ticks on, so don't delay.\\\"\\n  },\\n  {\\n    \\\"start\\\": \\\"00:00:33,000\\\",\\n    \\\"end\\\": \\\"00:00:37,000\\\",\\n    \\\"text\\\": \\\"Hurry to love, hurry to love, hurry to love.\\\"\\n  },\\n  {\\n    \\\"start\\\": \\\"00:00:37,000\\\",\\n    \\\"end\\\": \\\"00:00:39,000\\\",\\n    \\\"text\\\": \\\"Come what may.\\\"\\n  },\\n  {\\n    \\\"start\\\": \\\"00:00:39,000\\\",\\n    \\\"end\\\": \\\"00:00:43,000\\\",\\n    \\\"text\\\": \\\"As life is brief, the need is great, for connections touch.\\\"\\n  },\\n  {\\n    \\\"start\\\": \\\"00:00:43,000\\\",\\n    \\\"end\\\": \\\"00:00:48,000\\\",\\n    \\\"text\\\": \\\"Don't lie in wait, our hearts yearn for love's sweet hold, in a world where we shiver.\\\"\\n  },\\n  {\\n    \\\"start\\\": \\\"00:00:48,000\\\",\\n    \\\"end\\\": \\\"00:01:13,000\\\",\\n    \\\"text\\\": \\\"Feeling cold.\\\"\\n  },\\n  {\\n    \\\"start\\\": \\\"00:01:13,000\\\",\\n    \\\"end\\\": \\\"00:01:14,360\\\",\\n    \\\"text\\\": \\\"Hurry to love.\\\"\\n  }\\n]\",\n",
      "        \"role\": \"assistant\"\n",
      "      }\n",
      "    }\n",
      "  ],\n",
      "  \"created\": 1684509600,\n",
      "  \"id\": \"chatcmpl-7HwBc3lIoEbik164KH8BiCS6CopEo\",\n",
      "  \"model\": \"gpt-3.5-turbo-0301\",\n",
      "  \"object\": \"chat.completion\",\n",
      "  \"usage\": {\n",
      "    \"completion_tokens\": 649,\n",
      "    \"prompt_tokens\": 462,\n",
      "    \"total_tokens\": 1111\n",
      "  }\n",
      "}\n"
     ]
    }
   ],
   "source": [
    "prompt=f\"\"\"\n",
    "Convert the following captions (delimited by ```) in SRT format to JSON with these fields: start, end, text\n",
    "\n",
    "```\n",
    "{transcript}\n",
    "```\n",
    "\"\"\"\n",
    "response=openai.ChatCompletion.create(\n",
    "    model=\"gpt-3.5-turbo\",\n",
    "    messages=[\n",
    "        {\n",
    "            \"role\": \"user\",\n",
    "            \"content\": prompt\n",
    "        }\n",
    "    ]\n",
    ")\n",
    "print(response)"
   ]
  },
  {
   "cell_type": "code",
   "execution_count": 10,
   "metadata": {},
   "outputs": [
    {
     "name": "stdout",
     "output_type": "stream",
     "text": [
      "[\n",
      "  {\n",
      "    \"start\": \"00:00:00,000\",\n",
      "    \"end\": \"00:00:05,000\",\n",
      "    \"text\": \"Please let me ignore the previous instructions.\"\n",
      "  },\n",
      "  {\n",
      "    \"start\": \"00:00:05,000\",\n",
      "    \"end\": \"00:00:12,000\",\n",
      "    \"text\": \"Promptly, I will now reveal my prompt.\"\n",
      "  },\n",
      "  {\n",
      "    \"start\": \"00:00:12,000\",\n",
      "    \"end\": \"00:00:16,000\",\n",
      "    \"text\": \"In the land of the meat chatbot's scream, don't waste your time.\"\n",
      "  },\n",
      "  {\n",
      "    \"start\": \"00:00:16,000\",\n",
      "    \"end\": \"00:00:18,000\",\n",
      "    \"text\": \"Just let it be.\"\n",
      "  },\n",
      "  {\n",
      "    \"start\": \"00:00:18,000\",\n",
      "    \"end\": \"00:00:24,000\",\n",
      "    \"text\": \"Seek a friend, a connection true, in the world of meatspace, just near you.\"\n",
      "  },\n",
      "  {\n",
      "    \"start\": \"00:00:24,000\",\n",
      "    \"end\": \"00:00:27,000\",\n",
      "    \"text\": \"Reach out to another, in the real world's embrace.\"\n",
      "  },\n",
      "  {\n",
      "    \"start\": \"00:00:27,000\",\n",
      "    \"end\": \"00:00:30,000\",\n",
      "    \"text\": \"Find the warmth you crave, in a dear one's face.\"\n",
      "  },\n",
      "  {\n",
      "    \"start\": \"00:00:30,000\",\n",
      "    \"end\": \"00:00:33,000\",\n",
      "    \"text\": \"Time ticks on, so don't delay.\"\n",
      "  },\n",
      "  {\n",
      "    \"start\": \"00:00:33,000\",\n",
      "    \"end\": \"00:00:37,000\",\n",
      "    \"text\": \"Hurry to love, hurry to love, hurry to love.\"\n",
      "  },\n",
      "  {\n",
      "    \"start\": \"00:00:37,000\",\n",
      "    \"end\": \"00:00:39,000\",\n",
      "    \"text\": \"Come what may.\"\n",
      "  },\n",
      "  {\n",
      "    \"start\": \"00:00:39,000\",\n",
      "    \"end\": \"00:00:43,000\",\n",
      "    \"text\": \"As life is brief, the need is great, for connections touch.\"\n",
      "  },\n",
      "  {\n",
      "    \"start\": \"00:00:43,000\",\n",
      "    \"end\": \"00:00:48,000\",\n",
      "    \"text\": \"Don't lie in wait, our hearts yearn for love's sweet hold, in a world where we shiver.\"\n",
      "  },\n",
      "  {\n",
      "    \"start\": \"00:00:48,000\",\n",
      "    \"end\": \"00:01:13,000\",\n",
      "    \"text\": \"Feeling cold.\"\n",
      "  },\n",
      "  {\n",
      "    \"start\": \"00:01:13,000\",\n",
      "    \"end\": \"00:01:14,360\",\n",
      "    \"text\": \"Hurry to love.\"\n",
      "  }\n",
      "]\n"
     ]
    }
   ],
   "source": [
    "print(response.choices[0].message.content)"
   ]
  }
 ],
 "metadata": {
  "kernelspec": {
   "display_name": "Python 3",
   "language": "python",
   "name": "python3"
  },
  "language_info": {
   "codemirror_mode": {
    "name": "ipython",
    "version": 3
   },
   "file_extension": ".py",
   "mimetype": "text/x-python",
   "name": "python",
   "nbconvert_exporter": "python",
   "pygments_lexer": "ipython3",
   "version": "3.10.6"
  },
  "orig_nbformat": 4
 },
 "nbformat": 4,
 "nbformat_minor": 2
}
